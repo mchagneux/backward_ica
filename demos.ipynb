{
 "cells": [
  {
   "cell_type": "markdown",
   "metadata": {},
   "source": [
    "# Experiments on backward variational ICA "
   ]
  },
  {
   "cell_type": "markdown",
   "metadata": {},
   "source": [
    "***Uncomment and run the following cell if you're using Collab***"
   ]
  },
  {
   "cell_type": "code",
   "execution_count": null,
   "metadata": {},
   "outputs": [],
   "source": [
    "# !rm -rf *\n",
    "# !git clone https://github.com/mchagneux/backward_ica.git\n",
    "# !mv backward_ica/* ./\n",
    "# !rm -rf backward_ica"
   ]
  },
  {
   "cell_type": "markdown",
   "metadata": {},
   "source": [
    "### Imports"
   ]
  },
  {
   "cell_type": "code",
   "execution_count": 3,
   "metadata": {},
   "outputs": [
    {
     "name": "stdout",
     "output_type": "stream",
     "text": [
      "tensor(-1.4211e-14)\n",
      "tensor(-6.3949e-14)\n"
     ]
    }
   ],
   "source": [
    "from functools import partial\n",
    "from src.eval import mse_expectation_against_true_states\n",
    "from src.kalman import Kalman, NumpyKalman\n",
    "from src.hmm import AdditiveGaussianHMM, LinearGaussianHMM\n",
    "from src.elbo import get_appropriate_elbo\n",
    "import torch\n",
    "from tqdm import tqdm\n",
    "torch.set_default_dtype(torch.float64) \n",
    "torch.set_default_tensor_type(torch.DoubleTensor)\n",
    "# torch.set_printoptions(precision=10)\n",
    "\n",
    "## sanity checks\n",
    "hmm = LinearGaussianHMM(state_dim=2, obs_dim=2)\n",
    "states, observations = hmm.sample_joint_sequence(10)\n",
    "\n",
    "for param in hmm.model.parameters():param.requires_grad = False\n",
    "likelihood_torch = Kalman(hmm.model).filter(observations)[4] #kalman with torch operators \n",
    "likelihood_numpy = NumpyKalman(hmm.model).filter(observations.numpy())[2] #kalman with numpy operators \n",
    "fully_linear_gaussian_elbo = get_appropriate_elbo('linear_gaussian','linear_emission')\n",
    "likelihood_via_elbo = fully_linear_gaussian_elbo(hmm.model, hmm.model)(observations) #elbo\n",
    "\n",
    "# both should be close to 0\n",
    "print(likelihood_numpy - likelihood_torch)\n",
    "print(likelihood_numpy - likelihood_via_elbo)"
   ]
  },
  {
   "cell_type": "markdown",
   "metadata": {},
   "source": [
    "## Introduction\n",
    "\n",
    "This notebook is comprised of a series of experiments that attempt to recover expectations $\\mathbb{E}[h(z_{1:t})|x_{1:t}]$ via variational approximations, when the process $(z_t, x_t)_{t \\ge 1}$ is an HMM. The main metric $\\ell$ all along is the MSE against the true states when $h$ is a plain sum, ie\n",
    "\n",
    "$$\\ell = \\left(\\sum_{t=1}^T z_t^* - \\sum_{t=1}^T \\mathbb{E}_{q_T(z_t)}[z_t] \\right)^2$$\n",
    "\n",
    "where $q_T(z_t) = q(z_t|x_{1:T})$ is the marginal smoothing distribution at $t$.\n",
    "\n",
    "In all the following, we assume that the variational smoothing distribution factorizes as $q_\\phi(z_{1:t}|x_{1:t}) = q_\\phi(z_t|x_{1:t}) \\prod_{s=1}^{t-1} q_\\phi(z_s|z_{s+1},x_{1:s})$. We always assume that $$q_\\phi(z_t|x_{1:t}) \\sim \\mathcal{N}(\\mu_{1:t}, \\Sigma_{1:t})$$ and \n",
    "\n",
    "$$q_\\phi(z_s|z_{s+1},x_{1:s}) \\sim \\mathcal{N}(\\overleftarrow{\\mu}_{1:t}(z_{s+1}), \\overleftarrow{\\Sigma}_{1:t})$$\n",
    "\n",
    "In the following, we make several assumptions on both $p_\\theta$ and $q_\\phi$.\n",
    "\n",
    "\n",
    "In this case, not only should the expectations be correctly recovered, but parameters in $\\phi$ and $\\theta$ should be identifiable. We also know that in this case the best estimate of $z_{1:t}^*$ for any sequence is obtained via the Kalman smoothing recursions applied with parameters $\\theta$ on the observations $x_{1:t}$. \n",
    "\n"
   ]
  },
  {
   "cell_type": "markdown",
   "metadata": {},
   "source": [
    "## 1. Linear Gaussian HMM \n",
    "\n",
    "First we assume that observation sequences $x_{1:T}$ arise from $p_\\theta(z_{1:t},x_{1:t})$ defined as\n",
    "$$z_t = A_\\theta z_{t-1} + a_\\theta + \\eta_\\theta$$ \n",
    "$$x_t = B_\\theta z_t + b_\\theta + \\epsilon_\\theta$$\n",
    "\n",
    "where $\\eta_\\theta \\sim \\mathcal{N}(0,Q_\\theta)$ and $\\epsilon_\\theta \\sim \\mathcal{N}(0,R_\\theta)$"
   ]
  },
  {
   "cell_type": "markdown",
   "metadata": {},
   "source": [
    "### 1. a. Approximated by a linear Gaussian HMM\n",
    "\n",
    "We start by recovering $p_\\theta$ when $q_\\phi$ is in the family of the true model. We do this by prescribing the model for $q_\\phi$ in forward time with a similar HMM structure as $p_\\theta$ (but random initial parameters), and in this case the parameters of the filtering backward distributions exist via Kalman recursions and closed-form definitions."
   ]
  },
  {
   "cell_type": "code",
   "execution_count": 2,
   "metadata": {},
   "outputs": [
    {
     "name": "stdout",
     "output_type": "stream",
     "text": [
      "True evidence accross all sequences: tensor(284.6998)\n",
      "Average of \"L(theta, phi) - log(p_theta(x))\": tensor(15564.7202)\n",
      "Average of \"L(theta, phi) - log(p_theta(x))\": tensor(6240.5772)\n",
      "Average of \"L(theta, phi) - log(p_theta(x))\": tensor(3179.6627)\n",
      "Average of \"L(theta, phi) - log(p_theta(x))\": tensor(2258.2175)\n",
      "Average of \"L(theta, phi) - log(p_theta(x))\": tensor(1680.7404)\n",
      "Average of \"L(theta, phi) - log(p_theta(x))\": tensor(1189.5143)\n",
      "Average of \"L(theta, phi) - log(p_theta(x))\": tensor(825.2613)\n",
      "Average of \"L(theta, phi) - log(p_theta(x))\": tensor(579.1032)\n",
      "Average of \"L(theta, phi) - log(p_theta(x))\": tensor(412.0642)\n",
      "Average of \"L(theta, phi) - log(p_theta(x))\": tensor(299.3948)\n",
      "Average of \"L(theta, phi) - log(p_theta(x))\": tensor(223.9976)\n",
      "Average of \"L(theta, phi) - log(p_theta(x))\": tensor(174.3408)\n",
      "Average of \"L(theta, phi) - log(p_theta(x))\": tensor(140.8485)\n",
      "Average of \"L(theta, phi) - log(p_theta(x))\": tensor(117.2983)\n",
      "Average of \"L(theta, phi) - log(p_theta(x))\": tensor(99.9117)\n",
      "Average of \"L(theta, phi) - log(p_theta(x))\": tensor(86.3010)\n",
      "Average of \"L(theta, phi) - log(p_theta(x))\": tensor(75.2043)\n",
      "Average of \"L(theta, phi) - log(p_theta(x))\": tensor(65.9496)\n",
      "Average of \"L(theta, phi) - log(p_theta(x))\": tensor(58.1612)\n",
      "Average of \"L(theta, phi) - log(p_theta(x))\": tensor(51.6225)\n",
      "Average of \"L(theta, phi) - log(p_theta(x))\": tensor(46.1687)\n",
      "Average of \"L(theta, phi) - log(p_theta(x))\": tensor(41.6527)\n",
      "Average of \"L(theta, phi) - log(p_theta(x))\": tensor(37.9445)\n",
      "Average of \"L(theta, phi) - log(p_theta(x))\": tensor(34.9258)\n",
      "Average of \"L(theta, phi) - log(p_theta(x))\": tensor(32.4878)\n",
      "Average of \"L(theta, phi) - log(p_theta(x))\": tensor(30.5324)\n",
      "Average of \"L(theta, phi) - log(p_theta(x))\": tensor(28.9735)\n",
      "Average of \"L(theta, phi) - log(p_theta(x))\": tensor(27.7365)\n",
      "Average of \"L(theta, phi) - log(p_theta(x))\": tensor(26.7578)\n",
      "Average of \"L(theta, phi) - log(p_theta(x))\": tensor(25.9843)\n",
      "Average of \"L(theta, phi) - log(p_theta(x))\": tensor(25.3717)\n",
      "Average of \"L(theta, phi) - log(p_theta(x))\": tensor(24.8842)\n",
      "Average of \"L(theta, phi) - log(p_theta(x))\": tensor(24.4928)\n",
      "Average of \"L(theta, phi) - log(p_theta(x))\": tensor(24.1746)\n",
      "Average of \"L(theta, phi) - log(p_theta(x))\": tensor(23.9113)\n",
      "Average of \"L(theta, phi) - log(p_theta(x))\": tensor(23.6889)\n",
      "Average of \"L(theta, phi) - log(p_theta(x))\": tensor(23.4965)\n",
      "Average of \"L(theta, phi) - log(p_theta(x))\": tensor(23.3257)\n",
      "Average of \"L(theta, phi) - log(p_theta(x))\": tensor(23.1702)\n",
      "Average of \"L(theta, phi) - log(p_theta(x))\": tensor(23.0254)\n",
      "Average of \"L(theta, phi) - log(p_theta(x))\": tensor(22.8878)\n",
      "Average of \"L(theta, phi) - log(p_theta(x))\": tensor(22.7548)\n",
      "Average of \"L(theta, phi) - log(p_theta(x))\": tensor(22.6245)\n",
      "Average of \"L(theta, phi) - log(p_theta(x))\": tensor(22.4956)\n",
      "Average of \"L(theta, phi) - log(p_theta(x))\": tensor(22.3672)\n",
      "Average of \"L(theta, phi) - log(p_theta(x))\": tensor(22.2387)\n",
      "Average of \"L(theta, phi) - log(p_theta(x))\": tensor(22.1097)\n",
      "Average of \"L(theta, phi) - log(p_theta(x))\": tensor(21.9798)\n",
      "Average of \"L(theta, phi) - log(p_theta(x))\": tensor(21.8490)\n",
      "Average of \"L(theta, phi) - log(p_theta(x))\": tensor(21.7171)\n",
      "Average of \"L(theta, phi) - log(p_theta(x))\": tensor(21.5841)\n",
      "Average of \"L(theta, phi) - log(p_theta(x))\": tensor(21.4501)\n",
      "Average of \"L(theta, phi) - log(p_theta(x))\": tensor(21.3151)\n",
      "Average of \"L(theta, phi) - log(p_theta(x))\": tensor(21.1792)\n",
      "Average of \"L(theta, phi) - log(p_theta(x))\": tensor(21.0423)\n",
      "Average of \"L(theta, phi) - log(p_theta(x))\": tensor(20.9046)\n",
      "Average of \"L(theta, phi) - log(p_theta(x))\": tensor(20.7662)\n",
      "Average of \"L(theta, phi) - log(p_theta(x))\": tensor(20.6271)\n",
      "Average of \"L(theta, phi) - log(p_theta(x))\": tensor(20.4874)\n",
      "Average of \"L(theta, phi) - log(p_theta(x))\": tensor(20.3471)\n",
      "Average of \"L(theta, phi) - log(p_theta(x))\": tensor(20.2064)\n",
      "Average of \"L(theta, phi) - log(p_theta(x))\": tensor(20.0652)\n",
      "Average of \"L(theta, phi) - log(p_theta(x))\": tensor(19.9238)\n",
      "Average of \"L(theta, phi) - log(p_theta(x))\": tensor(19.7820)\n",
      "Average of \"L(theta, phi) - log(p_theta(x))\": tensor(19.6400)\n",
      "Average of \"L(theta, phi) - log(p_theta(x))\": tensor(19.4979)\n",
      "Average of \"L(theta, phi) - log(p_theta(x))\": tensor(19.3556)\n",
      "Average of \"L(theta, phi) - log(p_theta(x))\": tensor(19.2132)\n",
      "Average of \"L(theta, phi) - log(p_theta(x))\": tensor(19.0708)\n",
      "Average of \"L(theta, phi) - log(p_theta(x))\": tensor(18.9285)\n",
      "Average of \"L(theta, phi) - log(p_theta(x))\": tensor(18.7862)\n",
      "Average of \"L(theta, phi) - log(p_theta(x))\": tensor(18.6440)\n",
      "Average of \"L(theta, phi) - log(p_theta(x))\": tensor(18.5019)\n",
      "Average of \"L(theta, phi) - log(p_theta(x))\": tensor(18.3600)\n",
      "Average of \"L(theta, phi) - log(p_theta(x))\": tensor(18.2183)\n",
      "Average of \"L(theta, phi) - log(p_theta(x))\": tensor(18.0769)\n",
      "Average of \"L(theta, phi) - log(p_theta(x))\": tensor(17.9358)\n",
      "Average of \"L(theta, phi) - log(p_theta(x))\": tensor(17.7949)\n",
      "Average of \"L(theta, phi) - log(p_theta(x))\": tensor(17.6544)\n",
      "Average of \"L(theta, phi) - log(p_theta(x))\": tensor(17.5142)\n",
      "Average of \"L(theta, phi) - log(p_theta(x))\": tensor(17.3744)\n",
      "Average of \"L(theta, phi) - log(p_theta(x))\": tensor(17.2351)\n",
      "Average of \"L(theta, phi) - log(p_theta(x))\": tensor(17.0962)\n",
      "Average of \"L(theta, phi) - log(p_theta(x))\": tensor(16.9577)\n",
      "Average of \"L(theta, phi) - log(p_theta(x))\": tensor(16.8197)\n",
      "Average of \"L(theta, phi) - log(p_theta(x))\": tensor(16.6822)\n",
      "Average of \"L(theta, phi) - log(p_theta(x))\": tensor(16.5452)\n",
      "Average of \"L(theta, phi) - log(p_theta(x))\": tensor(16.4087)\n",
      "Average of \"L(theta, phi) - log(p_theta(x))\": tensor(16.2728)\n",
      "Average of \"L(theta, phi) - log(p_theta(x))\": tensor(16.1375)\n",
      "Average of \"L(theta, phi) - log(p_theta(x))\": tensor(16.0027)\n",
      "Average of \"L(theta, phi) - log(p_theta(x))\": tensor(15.8685)\n",
      "Average of \"L(theta, phi) - log(p_theta(x))\": tensor(15.7349)\n",
      "Average of \"L(theta, phi) - log(p_theta(x))\": tensor(15.6020)\n",
      "Average of \"L(theta, phi) - log(p_theta(x))\": tensor(15.4697)\n",
      "Average of \"L(theta, phi) - log(p_theta(x))\": tensor(15.3380)\n",
      "Average of \"L(theta, phi) - log(p_theta(x))\": tensor(15.2070)\n",
      "Average of \"L(theta, phi) - log(p_theta(x))\": tensor(15.0767)\n",
      "Average of \"L(theta, phi) - log(p_theta(x))\": tensor(14.9470)\n",
      "Average of \"L(theta, phi) - log(p_theta(x))\": tensor(14.8180)\n",
      "Average of \"L(theta, phi) - log(p_theta(x))\": tensor(14.6897)\n",
      "Average of \"L(theta, phi) - log(p_theta(x))\": tensor(14.5621)\n",
      "Average of \"L(theta, phi) - log(p_theta(x))\": tensor(14.4352)\n",
      "Average of \"L(theta, phi) - log(p_theta(x))\": tensor(14.3090)\n",
      "Average of \"L(theta, phi) - log(p_theta(x))\": tensor(14.1836)\n",
      "Average of \"L(theta, phi) - log(p_theta(x))\": tensor(14.0589)\n",
      "Average of \"L(theta, phi) - log(p_theta(x))\": tensor(13.9349)\n",
      "Average of \"L(theta, phi) - log(p_theta(x))\": tensor(13.8117)\n",
      "Average of \"L(theta, phi) - log(p_theta(x))\": tensor(13.6892)\n",
      "Average of \"L(theta, phi) - log(p_theta(x))\": tensor(13.5674)\n",
      "Average of \"L(theta, phi) - log(p_theta(x))\": tensor(13.4465)\n",
      "Average of \"L(theta, phi) - log(p_theta(x))\": tensor(13.3263)\n",
      "Average of \"L(theta, phi) - log(p_theta(x))\": tensor(13.2068)\n",
      "Average of \"L(theta, phi) - log(p_theta(x))\": tensor(13.0881)\n",
      "Average of \"L(theta, phi) - log(p_theta(x))\": tensor(12.9702)\n",
      "Average of \"L(theta, phi) - log(p_theta(x))\": tensor(12.8531)\n",
      "Average of \"L(theta, phi) - log(p_theta(x))\": tensor(12.7368)\n",
      "Average of \"L(theta, phi) - log(p_theta(x))\": tensor(12.6212)\n"
     ]
    },
    {
     "ename": "KeyboardInterrupt",
     "evalue": "",
     "output_type": "error",
     "traceback": [
      "\u001b[0;31m---------------------------------------------------------------------------\u001b[0m",
      "\u001b[0;31mKeyboardInterrupt\u001b[0m                         Traceback (most recent call last)",
      "\u001b[1;32m/home/infres/chagneux/repos/backward_ica/demos.ipynb Cell 9'\u001b[0m in \u001b[0;36m<module>\u001b[0;34m\u001b[0m\n\u001b[1;32m     <a href='vscode-notebook-cell://ssh-remote%2Bgpu2/home/infres/chagneux/repos/backward_ica/demos.ipynb#ch0000008vscode-remote?line=30'>31</a>\u001b[0m \u001b[39mfor\u001b[39;00m observations \u001b[39min\u001b[39;00m observation_sequences: \n\u001b[1;32m     <a href='vscode-notebook-cell://ssh-remote%2Bgpu2/home/infres/chagneux/repos/backward_ica/demos.ipynb#ch0000008vscode-remote?line=31'>32</a>\u001b[0m     optimizer\u001b[39m.\u001b[39mzero_grad()\n\u001b[0;32m---> <a href='vscode-notebook-cell://ssh-remote%2Bgpu2/home/infres/chagneux/repos/backward_ica/demos.ipynb#ch0000008vscode-remote?line=32'>33</a>\u001b[0m     loss \u001b[39m=\u001b[39m \u001b[39m-\u001b[39melbo(observations)\n\u001b[1;32m     <a href='vscode-notebook-cell://ssh-remote%2Bgpu2/home/infres/chagneux/repos/backward_ica/demos.ipynb#ch0000008vscode-remote?line=33'>34</a>\u001b[0m     loss\u001b[39m.\u001b[39mbackward()\n\u001b[1;32m     <a href='vscode-notebook-cell://ssh-remote%2Bgpu2/home/infres/chagneux/repos/backward_ica/demos.ipynb#ch0000008vscode-remote?line=34'>35</a>\u001b[0m     optimizer\u001b[39m.\u001b[39mstep()\n",
      "File \u001b[0;32m~/anaconda3/envs/backward_ica/lib/python3.9/site-packages/torch/nn/modules/module.py:1102\u001b[0m, in \u001b[0;36mModule._call_impl\u001b[0;34m(self, *input, **kwargs)\u001b[0m\n\u001b[1;32m   <a href='file:///~/anaconda3/envs/backward_ica/lib/python3.9/site-packages/torch/nn/modules/module.py?line=1097'>1098</a>\u001b[0m \u001b[39m# If we don't have any hooks, we want to skip the rest of the logic in\u001b[39;00m\n\u001b[1;32m   <a href='file:///~/anaconda3/envs/backward_ica/lib/python3.9/site-packages/torch/nn/modules/module.py?line=1098'>1099</a>\u001b[0m \u001b[39m# this function, and just call forward.\u001b[39;00m\n\u001b[1;32m   <a href='file:///~/anaconda3/envs/backward_ica/lib/python3.9/site-packages/torch/nn/modules/module.py?line=1099'>1100</a>\u001b[0m \u001b[39mif\u001b[39;00m \u001b[39mnot\u001b[39;00m (\u001b[39mself\u001b[39m\u001b[39m.\u001b[39m_backward_hooks \u001b[39mor\u001b[39;00m \u001b[39mself\u001b[39m\u001b[39m.\u001b[39m_forward_hooks \u001b[39mor\u001b[39;00m \u001b[39mself\u001b[39m\u001b[39m.\u001b[39m_forward_pre_hooks \u001b[39mor\u001b[39;00m _global_backward_hooks\n\u001b[1;32m   <a href='file:///~/anaconda3/envs/backward_ica/lib/python3.9/site-packages/torch/nn/modules/module.py?line=1100'>1101</a>\u001b[0m         \u001b[39mor\u001b[39;00m _global_forward_hooks \u001b[39mor\u001b[39;00m _global_forward_pre_hooks):\n\u001b[0;32m-> <a href='file:///~/anaconda3/envs/backward_ica/lib/python3.9/site-packages/torch/nn/modules/module.py?line=1101'>1102</a>\u001b[0m     \u001b[39mreturn\u001b[39;00m forward_call(\u001b[39m*\u001b[39;49m\u001b[39minput\u001b[39;49m, \u001b[39m*\u001b[39;49m\u001b[39m*\u001b[39;49mkwargs)\n\u001b[1;32m   <a href='file:///~/anaconda3/envs/backward_ica/lib/python3.9/site-packages/torch/nn/modules/module.py?line=1102'>1103</a>\u001b[0m \u001b[39m# Do not call functions when jit is used\u001b[39;00m\n\u001b[1;32m   <a href='file:///~/anaconda3/envs/backward_ica/lib/python3.9/site-packages/torch/nn/modules/module.py?line=1103'>1104</a>\u001b[0m full_backward_hooks, non_full_backward_hooks \u001b[39m=\u001b[39m [], []\n",
      "File \u001b[0;32m~/repos/backward_ica/src/elbo.py:119\u001b[0m, in \u001b[0;36mBackwardELBO.forward\u001b[0;34m(self, observations)\u001b[0m\n\u001b[1;32m    <a href='file:///~/repos/backward_ica/src/elbo.py?line=113'>114</a>\u001b[0m \u001b[39mself\u001b[39m\u001b[39m.\u001b[39mv_model_emission_det_cov \u001b[39m=\u001b[39m torch\u001b[39m.\u001b[39mdet(\u001b[39mself\u001b[39m\u001b[39m.\u001b[39mv_model\u001b[39m.\u001b[39memission\u001b[39m.\u001b[39mcov)\n\u001b[1;32m    <a href='file:///~/repos/backward_ica/src/elbo.py?line=116'>117</a>\u001b[0m \u001b[39mself\u001b[39m\u001b[39m.\u001b[39m_init_V(observations[\u001b[39m0\u001b[39m])\n\u001b[0;32m--> <a href='file:///~/repos/backward_ica/src/elbo.py?line=118'>119</a>\u001b[0m result \u001b[39m=\u001b[39m  \u001b[39mself\u001b[39;49m\u001b[39m.\u001b[39;49mupdate(observations[\u001b[39m1\u001b[39;49m:])\n\u001b[1;32m    <a href='file:///~/repos/backward_ica/src/elbo.py?line=119'>120</a>\u001b[0m \u001b[39mself\u001b[39m\u001b[39m.\u001b[39mbackwards \u001b[39m=\u001b[39m []\n\u001b[1;32m    <a href='file:///~/repos/backward_ica/src/elbo.py?line=120'>121</a>\u001b[0m \u001b[39mreturn\u001b[39;00m result\n",
      "File \u001b[0;32m~/repos/backward_ica/src/elbo.py:100\u001b[0m, in \u001b[0;36mBackwardELBO.update\u001b[0;34m(self, observations)\u001b[0m\n\u001b[1;32m     <a href='file:///~/repos/backward_ica/src/elbo.py?line=98'>99</a>\u001b[0m \u001b[39mdef\u001b[39;00m \u001b[39mupdate\u001b[39m(\u001b[39mself\u001b[39m, observations):\n\u001b[0;32m--> <a href='file:///~/repos/backward_ica/src/elbo.py?line=99'>100</a>\u001b[0m     \u001b[39mself\u001b[39;49m\u001b[39m.\u001b[39;49m_update_V(observations)\n\u001b[1;32m    <a href='file:///~/repos/backward_ica/src/elbo.py?line=100'>101</a>\u001b[0m     \u001b[39mreturn\u001b[39;00m \u001b[39mself\u001b[39m\u001b[39m.\u001b[39m_expect_V_under_filtering()\n",
      "File \u001b[0;32m~/repos/backward_ica/src/elbo.py:240\u001b[0m, in \u001b[0;36mLinearGaussianQ._update_V\u001b[0;34m(self, observations)\u001b[0m\n\u001b[1;32m    <a href='file:///~/repos/backward_ica/src/elbo.py?line=237'>238</a>\u001b[0m \u001b[39mfor\u001b[39;00m quad_form_index, quad_forms \u001b[39min\u001b[39;00m \u001b[39menumerate\u001b[39m(\u001b[39mself\u001b[39m\u001b[39m.\u001b[39mterms_V):\n\u001b[1;32m    <a href='file:///~/repos/backward_ica/src/elbo.py?line=238'>239</a>\u001b[0m     \u001b[39mfor\u001b[39;00m backward_index \u001b[39min\u001b[39;00m \u001b[39mrange\u001b[39m(quad_form_index\u001b[39m+\u001b[39m\u001b[39m1\u001b[39m, \u001b[39mlen\u001b[39m(\u001b[39mself\u001b[39m\u001b[39m.\u001b[39mbackwards)):\n\u001b[0;32m--> <a href='file:///~/repos/backward_ica/src/elbo.py?line=239'>240</a>\u001b[0m         constants, quad_forms \u001b[39m=\u001b[39m \u001b[39mself\u001b[39;49m\u001b[39m.\u001b[39;49m_expect_quad_forms_under_backward(quad_forms, backward_index\u001b[39m=\u001b[39;49mbackward_index)\n\u001b[1;32m    <a href='file:///~/repos/backward_ica/src/elbo.py?line=240'>241</a>\u001b[0m         \u001b[39mself\u001b[39m\u001b[39m.\u001b[39mconstants_V \u001b[39m+\u001b[39m\u001b[39m=\u001b[39m constants\n\u001b[1;32m    <a href='file:///~/repos/backward_ica/src/elbo.py?line=241'>242</a>\u001b[0m     \u001b[39mself\u001b[39m\u001b[39m.\u001b[39mterms_V[quad_form_index] \u001b[39m=\u001b[39m quad_forms\n",
      "File \u001b[0;32m~/repos/backward_ica/src/elbo.py:157\u001b[0m, in \u001b[0;36mLinearGaussianQ._expect_quad_forms_under_backward\u001b[0;34m(self, quad_forms, backward_index)\u001b[0m\n\u001b[1;32m    <a href='file:///~/repos/backward_ica/src/elbo.py?line=154'>155</a>\u001b[0m integrated_quad_forms \u001b[39m=\u001b[39m []\n\u001b[1;32m    <a href='file:///~/repos/backward_ica/src/elbo.py?line=155'>156</a>\u001b[0m \u001b[39mfor\u001b[39;00m quad_form \u001b[39min\u001b[39;00m quad_forms: \n\u001b[0;32m--> <a href='file:///~/repos/backward_ica/src/elbo.py?line=156'>157</a>\u001b[0m     constant, integrated_quad_form \u001b[39m=\u001b[39m \u001b[39mself\u001b[39;49m\u001b[39m.\u001b[39;49m_expect_quad_form_under_backward(quad_form, backward_index)\n\u001b[1;32m    <a href='file:///~/repos/backward_ica/src/elbo.py?line=157'>158</a>\u001b[0m     constants \u001b[39m+\u001b[39m\u001b[39m=\u001b[39m constant\n\u001b[1;32m    <a href='file:///~/repos/backward_ica/src/elbo.py?line=158'>159</a>\u001b[0m     integrated_quad_forms\u001b[39m.\u001b[39mappend(integrated_quad_form)\n",
      "File \u001b[0;32m~/repos/backward_ica/src/elbo.py:146\u001b[0m, in \u001b[0;36mLinearGaussianQ._expect_quad_form_under_backward\u001b[0;34m(self, quad_form, backward_index)\u001b[0m\n\u001b[1;32m    <a href='file:///~/repos/backward_ica/src/elbo.py?line=144'>145</a>\u001b[0m \u001b[39mdef\u001b[39;00m \u001b[39m_expect_quad_form_under_backward\u001b[39m(\u001b[39mself\u001b[39m, quad_form, backward_index\u001b[39m=\u001b[39m\u001b[39m-\u001b[39m\u001b[39m1\u001b[39m):\n\u001b[0;32m--> <a href='file:///~/repos/backward_ica/src/elbo.py?line=145'>146</a>\u001b[0m         constant \u001b[39m=\u001b[39m torch\u001b[39m.\u001b[39;49mtrace(quad_form\u001b[39m.\u001b[39;49mOmega \u001b[39m@\u001b[39;49m quad_form\u001b[39m.\u001b[39;49mA \u001b[39m@\u001b[39;49m \u001b[39mself\u001b[39;49m\u001b[39m.\u001b[39;49mbackwards[backward_index]\u001b[39m.\u001b[39;49mcov \u001b[39m@\u001b[39;49m quad_form\u001b[39m.\u001b[39;49mA\u001b[39m.\u001b[39;49mT)\n\u001b[1;32m    <a href='file:///~/repos/backward_ica/src/elbo.py?line=146'>147</a>\u001b[0m         integrated_quad_form \u001b[39m=\u001b[39m QuadForm(Omega\u001b[39m=\u001b[39mquad_form\u001b[39m.\u001b[39mOmega, \n\u001b[1;32m    <a href='file:///~/repos/backward_ica/src/elbo.py?line=147'>148</a>\u001b[0m                                 A\u001b[39m=\u001b[39mquad_form\u001b[39m.\u001b[39mA \u001b[39m@\u001b[39m \u001b[39mself\u001b[39m\u001b[39m.\u001b[39mbackwards[backward_index]\u001b[39m.\u001b[39mA, \n\u001b[1;32m    <a href='file:///~/repos/backward_ica/src/elbo.py?line=148'>149</a>\u001b[0m                                 b\u001b[39m=\u001b[39mquad_form\u001b[39m.\u001b[39mA \u001b[39m@\u001b[39m \u001b[39mself\u001b[39m\u001b[39m.\u001b[39mbackwards[backward_index]\u001b[39m.\u001b[39ma \u001b[39m+\u001b[39m quad_form\u001b[39m.\u001b[39mb)\n\u001b[1;32m    <a href='file:///~/repos/backward_ica/src/elbo.py?line=149'>150</a>\u001b[0m         \u001b[39mreturn\u001b[39;00m constant, integrated_quad_form\n",
      "\u001b[0;31mKeyboardInterrupt\u001b[0m: "
     ]
    }
   ],
   "source": [
    "hmm = LinearGaussianHMM(state_dim=2, obs_dim=2) # pick some true model p \n",
    "for param in hmm.model.parameters(): param.requires_grad = False # not learning the parameters of the true model for now \n",
    "\n",
    "\n",
    "\n",
    "# sampling 10 sequences from the hmm \n",
    "samples = [hmm.sample_joint_sequence(8) for _ in range(10)] \n",
    "state_sequences = [sample[0] for sample in samples]\n",
    "observation_sequences = [sample[1] for sample in samples] \n",
    "\n",
    "\n",
    "# the variational model is a random LGMM with same dimensions, and we will not learn the covariances for now\n",
    "v_model = LinearGaussianHMM.get_random_model(2,2)\n",
    "v_model.prior.parametrizations.cov.original.requires_grad = False\n",
    "v_model.transition.parametrizations.cov.original.requires_grad = False \n",
    "v_model.emission.parametrizations.cov.original.requires_grad = False \n",
    "\n",
    "# the elbo object with p and q as arguments\n",
    "elbo = fully_linear_gaussian_elbo(hmm.model, v_model)\n",
    "\n",
    "# optimize the parameters of the ELBO (but theta deactivated above)\n",
    "optimizer = torch.optim.Adam(params=elbo.parameters(), lr=1e-2)\n",
    "true_evidence_all_sequences = sum(Kalman(hmm.model).filter(observations)[-1] for observations in observation_sequences)\n",
    "\n",
    "print('True evidence accross all sequences:', true_evidence_all_sequences)\n",
    "\n",
    "eps = torch.inf\n",
    "# optimizing model \n",
    "while eps > 0.1:\n",
    "    epoch_loss = 0.0\n",
    "    for observations in observation_sequences: \n",
    "        optimizer.zero_grad()\n",
    "        loss = -elbo(observations)\n",
    "        loss.backward()\n",
    "        optimizer.step()\n",
    "        epoch_loss += -loss\n",
    "    with torch.no_grad():\n",
    "        eps = torch.abs(true_evidence_all_sequences - epoch_loss)\n",
    "        print('Average of \"L(theta, phi) - log(p_theta(x))\":', eps)"
   ]
  },
  {
   "cell_type": "code",
   "execution_count": null,
   "metadata": {},
   "outputs": [],
   "source": [
    "# checking expectations under approximate model \n",
    "with torch.no_grad():\n",
    "    additive_functional = partial(torch.sum, dim=0)\n",
    "    smoothed_with_true_model = mse_expectation_against_true_states(state_sequences, observation_sequences, hmm.model, additive_functional)\n",
    "    smoothed_with_approximate_model = mse_expectation_against_true_states(state_sequences, observation_sequences, v_model, additive_functional)\n",
    "\n",
    "    print('MSE when smoothed with true model:',smoothed_with_true_model)\n",
    "    print('MSE when smoothed with variational model:',smoothed_with_approximate_model)"
   ]
  },
  {
   "cell_type": "markdown",
   "metadata": {},
   "source": [
    "### 1. b. Using a neural network to compute the backward parameters instead of Kalman recursions\n",
    "We make the same assumptions on $p_\\theta$ but now we attempt to recover the backward parameters via neural network."
   ]
  },
  {
   "cell_type": "markdown",
   "metadata": {},
   "source": [
    "## 2. A nonlinear emission model\n",
    "\n",
    "We now assume that $p_\\theta$ has a nonlinear emission distribution, ie. $x_t  = f_\\theta(z_t) + \\epsilon$."
   ]
  },
  {
   "cell_type": "markdown",
   "metadata": {},
   "source": [
    "### 2. a. Approximated by a linear Gaussian model.\n",
    "We keep a linear gaussian distribution for $q_\\phi$, but we add a mapping to compute the expectation of the emission term from $p_\\theta$."
   ]
  },
  {
   "cell_type": "code",
   "execution_count": 7,
   "metadata": {},
   "outputs": [
    {
     "ename": "AttributeError",
     "evalue": "cannot assign module before Module.__init__() call",
     "output_type": "error",
     "traceback": [
      "\u001b[0;31m---------------------------------------------------------------------------\u001b[0m",
      "\u001b[0;31mAttributeError\u001b[0m                            Traceback (most recent call last)",
      "\u001b[1;32m/home/infres/chagneux/repos/backward_ica/demos.ipynb Cell 14'\u001b[0m in \u001b[0;36m<module>\u001b[0;34m\u001b[0m\n\u001b[1;32m     <a href='vscode-notebook-cell://ssh-remote%2Bgpu2/home/infres/chagneux/repos/backward_ica/demos.ipynb#ch0000014vscode-remote?line=12'>13</a>\u001b[0m v_model\u001b[39m.\u001b[39memission\u001b[39m.\u001b[39mparametrizations\u001b[39m.\u001b[39mcov\u001b[39m.\u001b[39moriginal\u001b[39m.\u001b[39mrequires_grad \u001b[39m=\u001b[39m \u001b[39mFalse\u001b[39;00m \n\u001b[1;32m     <a href='vscode-notebook-cell://ssh-remote%2Bgpu2/home/infres/chagneux/repos/backward_ica/demos.ipynb#ch0000014vscode-remote?line=16'>17</a>\u001b[0m elbo_nonlinear_emission \u001b[39m=\u001b[39m get_appropriate_elbo(variational_model_description\u001b[39m=\u001b[39m\u001b[39m'\u001b[39m\u001b[39mlinear_gaussian\u001b[39m\u001b[39m'\u001b[39m, true_model_description\u001b[39m=\u001b[39m\u001b[39m'\u001b[39m\u001b[39mnonlinear_emission\u001b[39m\u001b[39m'\u001b[39m)\n\u001b[0;32m---> <a href='vscode-notebook-cell://ssh-remote%2Bgpu2/home/infres/chagneux/repos/backward_ica/demos.ipynb#ch0000014vscode-remote?line=18'>19</a>\u001b[0m elbo_nonlinear_emission \u001b[39m=\u001b[39m elbo_nonlinear_emission(hmm\u001b[39m.\u001b[39;49mmodel, v_model)\n",
      "File \u001b[0;32m~/repos/backward_ica/src/elbo.py:277\u001b[0m, in \u001b[0;36mNonLinearEmission.__init__\u001b[0;34m(self, model, v_model)\u001b[0m\n\u001b[1;32m    <a href='file:///~/repos/backward_ica/src/elbo.py?line=274'>275</a>\u001b[0m \u001b[39mdef\u001b[39;00m \u001b[39m__init__\u001b[39m(\u001b[39mself\u001b[39m, model, v_model):\n\u001b[1;32m    <a href='file:///~/repos/backward_ica/src/elbo.py?line=275'>276</a>\u001b[0m     \u001b[39msuper\u001b[39m()\u001b[39m.\u001b[39m\u001b[39m__init__\u001b[39m(model, v_model)\n\u001b[0;32m--> <a href='file:///~/repos/backward_ica/src/elbo.py?line=276'>277</a>\u001b[0m     \u001b[39mself\u001b[39m\u001b[39m.\u001b[39mapproximator_backward \u001b[39m=\u001b[39m ApproximatorUnderBackward(\u001b[39mself\u001b[39;49m\u001b[39m.\u001b[39;49mdim_z, \u001b[39mself\u001b[39;49m\u001b[39m.\u001b[39;49mdim_x)\n\u001b[1;32m    <a href='file:///~/repos/backward_ica/src/elbo.py?line=277'>278</a>\u001b[0m     \u001b[39mself\u001b[39m\u001b[39m.\u001b[39mapproximator_filtering \u001b[39m=\u001b[39m ApproximatorUnderFiltering(\u001b[39mself\u001b[39m\u001b[39m.\u001b[39mdim_z, \u001b[39mself\u001b[39m\u001b[39m.\u001b[39mdim_x)\n",
      "File \u001b[0;32m~/repos/backward_ica/src/elbo.py:41\u001b[0m, in \u001b[0;36mApproximatorUnderBackward.__init__\u001b[0;34m(self, state_dim, obs_dim)\u001b[0m\n\u001b[1;32m     <a href='file:///~/repos/backward_ica/src/elbo.py?line=38'>39</a>\u001b[0m \u001b[39mself\u001b[39m\u001b[39m.\u001b[39mstate_dim \u001b[39m=\u001b[39m state_dim \n\u001b[1;32m     <a href='file:///~/repos/backward_ica/src/elbo.py?line=39'>40</a>\u001b[0m \u001b[39mself\u001b[39m\u001b[39m.\u001b[39mobs_dim \u001b[39m=\u001b[39m obs_dim\n\u001b[0;32m---> <a href='file:///~/repos/backward_ica/src/elbo.py?line=40'>41</a>\u001b[0m \u001b[39mself\u001b[39m\u001b[39m.\u001b[39mA_tilde_approximator \u001b[39m=\u001b[39m nn\u001b[39m.\u001b[39mSequential(nn\u001b[39m.\u001b[39mLinear(in_features\u001b[39m=\u001b[39mstate_dim\u001b[39m*\u001b[39m\u001b[39m*\u001b[39m\u001b[39m2\u001b[39m \u001b[39m+\u001b[39m state_dim \u001b[39m+\u001b[39m state_dim\u001b[39m*\u001b[39m\u001b[39m*\u001b[39m\u001b[39m2\u001b[39m, out_features \u001b[39m=\u001b[39m obs_dim\u001b[39m*\u001b[39mstate_dim, bias\u001b[39m=\u001b[39m\u001b[39mTrue\u001b[39;00m), nn\u001b[39m.\u001b[39mSELU())\n\u001b[1;32m     <a href='file:///~/repos/backward_ica/src/elbo.py?line=41'>42</a>\u001b[0m \u001b[39mself\u001b[39m\u001b[39m.\u001b[39ma_tilde_approximator \u001b[39m=\u001b[39m nn\u001b[39m.\u001b[39mSequential(nn\u001b[39m.\u001b[39mLinear(in_features\u001b[39m=\u001b[39mstate_dim\u001b[39m*\u001b[39m\u001b[39m*\u001b[39m\u001b[39m2\u001b[39m \u001b[39m+\u001b[39m state_dim \u001b[39m+\u001b[39m  state_dim\u001b[39m*\u001b[39m\u001b[39m*\u001b[39m\u001b[39m2\u001b[39m, out_features \u001b[39m=\u001b[39m obs_dim, bias\u001b[39m=\u001b[39m\u001b[39mTrue\u001b[39;00m), nn\u001b[39m.\u001b[39mSELU())\n\u001b[1;32m     <a href='file:///~/repos/backward_ica/src/elbo.py?line=42'>43</a>\u001b[0m \u001b[39mself\u001b[39m\u001b[39m.\u001b[39mconstant_term_approximator \u001b[39m=\u001b[39m nn\u001b[39m.\u001b[39mSequential(nn\u001b[39m.\u001b[39mLinear(in_features \u001b[39m=\u001b[39m state_dim\u001b[39m*\u001b[39m\u001b[39m*\u001b[39m\u001b[39m2\u001b[39m \u001b[39m+\u001b[39m state_dim \u001b[39m+\u001b[39m state_dim\u001b[39m*\u001b[39m\u001b[39m*\u001b[39m\u001b[39m2\u001b[39m, out_features\u001b[39m=\u001b[39m\u001b[39m1\u001b[39m, bias\u001b[39m=\u001b[39m\u001b[39mTrue\u001b[39;00m), nn\u001b[39m.\u001b[39mSELU())\n",
      "File \u001b[0;32m~/anaconda3/envs/backward_ica/lib/python3.9/site-packages/torch/nn/modules/module.py:1206\u001b[0m, in \u001b[0;36mModule.__setattr__\u001b[0;34m(self, name, value)\u001b[0m\n\u001b[1;32m   <a href='file:///~/anaconda3/envs/backward_ica/lib/python3.9/site-packages/torch/nn/modules/module.py?line=1203'>1204</a>\u001b[0m \u001b[39mif\u001b[39;00m \u001b[39misinstance\u001b[39m(value, Module):\n\u001b[1;32m   <a href='file:///~/anaconda3/envs/backward_ica/lib/python3.9/site-packages/torch/nn/modules/module.py?line=1204'>1205</a>\u001b[0m     \u001b[39mif\u001b[39;00m modules \u001b[39mis\u001b[39;00m \u001b[39mNone\u001b[39;00m:\n\u001b[0;32m-> <a href='file:///~/anaconda3/envs/backward_ica/lib/python3.9/site-packages/torch/nn/modules/module.py?line=1205'>1206</a>\u001b[0m         \u001b[39mraise\u001b[39;00m \u001b[39mAttributeError\u001b[39;00m(\n\u001b[1;32m   <a href='file:///~/anaconda3/envs/backward_ica/lib/python3.9/site-packages/torch/nn/modules/module.py?line=1206'>1207</a>\u001b[0m             \u001b[39m\"\u001b[39m\u001b[39mcannot assign module before Module.__init__() call\u001b[39m\u001b[39m\"\u001b[39m)\n\u001b[1;32m   <a href='file:///~/anaconda3/envs/backward_ica/lib/python3.9/site-packages/torch/nn/modules/module.py?line=1207'>1208</a>\u001b[0m     remove_from(\u001b[39mself\u001b[39m\u001b[39m.\u001b[39m\u001b[39m__dict__\u001b[39m, \u001b[39mself\u001b[39m\u001b[39m.\u001b[39m_parameters, \u001b[39mself\u001b[39m\u001b[39m.\u001b[39m_buffers, \u001b[39mself\u001b[39m\u001b[39m.\u001b[39m_non_persistent_buffers_set)\n\u001b[1;32m   <a href='file:///~/anaconda3/envs/backward_ica/lib/python3.9/site-packages/torch/nn/modules/module.py?line=1208'>1209</a>\u001b[0m     modules[name] \u001b[39m=\u001b[39m value\n",
      "\u001b[0;31mAttributeError\u001b[0m: cannot assign module before Module.__init__() call"
     ]
    }
   ],
   "source": [
    "hmm = AdditiveGaussianHMM(state_dim=2, obs_dim=2)\n",
    "\n",
    "# sampling 10 sequences from the hmm \n",
    "samples = [hmm.sample_joint_sequence(8) for _ in range(10)] \n",
    "state_sequences = [sample[0] for sample in samples]\n",
    "observation_sequences = [sample[1] for sample in samples] \n",
    "\n",
    "\n",
    "# the variational model is a random LGMM with same dimensions, and we will not learn the covariances for now\n",
    "v_model = LinearGaussianHMM.get_random_model(2,2)\n",
    "v_model.prior.parametrizations.cov.original.requires_grad = False\n",
    "v_model.transition.parametrizations.cov.original.requires_grad = False \n",
    "v_model.emission.parametrizations.cov.original.requires_grad = False \n",
    "\n",
    "\n",
    "\n",
    "elbo_nonlinear_emission = get_appropriate_elbo(variational_model_description='linear_gaussian', true_model_description='nonlinear_emission')\n",
    "\n",
    "elbo_nonlinear_emission = elbo_nonlinear_emission(hmm.model, v_model)"
   ]
  }
 ],
 "metadata": {
  "interpreter": {
   "hash": "c528143767b35424e5fa616681845f3b9656c31f35cafe040129ce40f24d14f5"
  },
  "kernelspec": {
   "display_name": "Python 3.9.7 ('backward_ica')",
   "language": "python",
   "name": "python3"
  },
  "language_info": {
   "codemirror_mode": {
    "name": "ipython",
    "version": 3
   },
   "file_extension": ".py",
   "mimetype": "text/x-python",
   "name": "python",
   "nbconvert_exporter": "python",
   "pygments_lexer": "ipython3",
   "version": "3.9.7"
  },
  "orig_nbformat": 4
 },
 "nbformat": 4,
 "nbformat_minor": 2
}
